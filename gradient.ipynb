{
 "cells": [
  {
   "cell_type": "code",
   "execution_count": 1,
   "metadata": {
    "collapsed": false
   },
   "outputs": [
    {
     "name": "stdout",
     "output_type": "stream",
     "text": [
      "0.0889365199374\n",
      "1.47774408519\n"
     ]
    },
    {
     "data": {
      "image/png": "[encoded data removed]",
      "text/plain": [
       "<matplotlib.figure.Figure at 0x105149cc0>"
      ]
     },
     "metadata": {},
     "output_type": "display_data"
    }
   ],
   "source": [
    "from numpy import *\n",
    "\n",
    "#https://spin.atomicobject.com/wp-content/uploads/linear_regression_error1.png\n",
    "def squared_sum_error(b, m, points):\n",
    "    error_sum = 0\n",
    "    N = float(len(points))\n",
    "\n",
    "    for i in range (len(points)):\n",
    "        xi = points[i, 0]\n",
    "        yi = points[i, 1]\n",
    "        error_sum += (1/N) * (yi - (m * xi + b)) **2\n",
    "\n",
    "    return error_sum\n",
    "\n",
    "#https://spin.atomicobject.com/wp-content/uploads/linear_regression_gradient1.png\n",
    "def step_gradient(b, m, points, learning_rate):\n",
    "    grad_b = 0\n",
    "    grad_m = 0\n",
    "    N = float(len(points))\n",
    "\n",
    "    for i in range (len(points)):\n",
    "        xi = points[i,0]\n",
    "        yi = points[i, 1]\n",
    "        grad_m -= (2/N) *  xi * (yi - ((m * xi) + b))\n",
    "        grad_b -= (2/N) * (yi - ((m * xi) + b))\n",
    "\n",
    "    adjusted_m = m - (learning_rate * grad_m)\n",
    "    adjusted_b = b - (learning_rate * grad_b)\n",
    "    return [adjusted_b, adjusted_m]\n",
    "\n",
    "\n",
    "def gradient_descent_runner(points, start_b, start_m, learning_rate, it):\n",
    "    b = start_b\n",
    "    m = start_m\n",
    "\n",
    "    for i in range(it):\n",
    "       b,m = step_gradient(b, m, points, learning_rate)\n",
    "    return [b, m]\n",
    "\n",
    "\n",
    "def run():\n",
    "    points = genfromtxt('data.csv', delimiter =',')\n",
    "    learning_rate = 0.0001\n",
    "    initial_b = 0\n",
    "    initial_m = 0\n",
    "    num_iterations = 1000\n",
    "    [b,m] = gradient_descent_runner(points, initial_b, initial_m, learning_rate, num_iterations)\n",
    "    print(b)\n",
    "    print(m)\n",
    "\n",
    "    max_x = float('-inf')\n",
    "    min_x = float('inf')\n",
    "\n",
    "    for i in range(len(points)):\n",
    "        xi = points[i,0]\n",
    "        if (xi > max_x):\n",
    "            max_x = xi\n",
    "        if (xi < min_x):\n",
    "            min_x = xi\n",
    "\n",
    "    max_x = int(max_x * 1.1)\n",
    "    min_x = int(min_x * 0.9)\n",
    "\n",
    "    f_x = []\n",
    "    f_y = []\n",
    "\n",
    "    for i in range(min_x, max_x):\n",
    "        y = (m * i) + b\n",
    "        f_x.append(i)\n",
    "        f_y.append(y)\n",
    "\n",
    "    data = genfromtxt('data.csv', delimiter=',', skip_header=10, skip_footer=10, names=['x','y'])\n",
    "\n",
    "    import matplotlib.pyplot as plt\n",
    "    plt.plot(data['x'], data['y'], linestyle='None', marker='o', color='r')\n",
    "    plt.plot(f_x, f_y, color='b')\n",
    "    plt.show()\n",
    "\n",
    "\n",
    "\n",
    "if __name__ == '__main__':\n",
    "    run()"
   ]
  },
  {
   "cell_type": "code",
   "execution_count": null,
   "metadata": {
    "collapsed": true
   },
   "outputs": [],
   "source": []
  }
 ],
 "metadata": {
  "kernelspec": {
   "display_name": "Python 3",
   "language": "python",
   "name": "python3"
  },
  "language_info": {
   "codemirror_mode": {
    "name": "ipython",
    "version": 3
   },
   "file_extension": ".py",
   "mimetype": "text/x-python",
   "name": "python",
   "nbconvert_exporter": "python",
   "pygments_lexer": "ipython3",
   "version": "3.6.0"
  }
 },
 "nbformat": 4,
 "nbformat_minor": 0
}
